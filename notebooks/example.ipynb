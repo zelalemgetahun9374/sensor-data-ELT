{
 "cells": [
  {
   "cell_type": "code",
   "execution_count": 1,
   "metadata": {},
   "outputs": [],
   "source": [
    "import dask.dataframe as dd\n",
    "from sqlalchemy import create_engine\n",
    "from sqlalchemy_utils import database_exists, create_database"
   ]
  },
  {
   "cell_type": "code",
   "execution_count": 24,
   "metadata": {},
   "outputs": [],
   "source": [
    "import pandas as pd\n",
    "df1 = pd.read_csv('../data/I80_sample.txt')"
   ]
  },
  {
   "cell_type": "code",
   "execution_count": 4,
   "metadata": {},
   "outputs": [],
   "source": [
    "df = dd.read_csv('../data/richards.csv', assume_missing = True)"
   ]
  },
  {
   "cell_type": "code",
   "execution_count": 6,
   "metadata": {},
   "outputs": [
    {
     "data": {
      "text/html": "<div>\n<style scoped>\n    .dataframe tbody tr th:only-of-type {\n        vertical-align: middle;\n    }\n\n    .dataframe tbody tr th {\n        vertical-align: top;\n    }\n\n    .dataframe thead th {\n        text-align: right;\n    }\n</style>\n<table border=\"1\" class=\"dataframe\">\n  <thead>\n    <tr style=\"text-align: right;\">\n      <th></th>\n      <th>timestamp</th>\n      <th>flow1</th>\n      <th>occupancy1</th>\n      <th>flow2</th>\n      <th>occupancy2</th>\n      <th>flow3</th>\n      <th>occupancy3</th>\n      <th>totalflow</th>\n      <th>weekday</th>\n      <th>hour</th>\n      <th>minute</th>\n      <th>second</th>\n    </tr>\n  </thead>\n  <tbody>\n    <tr>\n      <th>0</th>\n      <td>2016-01-01 00:00:03</td>\n      <td>1.0</td>\n      <td>0.0056</td>\n      <td>3.0</td>\n      <td>0.0200</td>\n      <td>0.0</td>\n      <td>0.0000</td>\n      <td>4.0</td>\n      <td>4.0</td>\n      <td>0.0</td>\n      <td>0.0</td>\n      <td>0.0</td>\n    </tr>\n    <tr>\n      <th>1</th>\n      <td>2016-01-01 00:00:35</td>\n      <td>1.0</td>\n      <td>0.0044</td>\n      <td>1.0</td>\n      <td>0.0056</td>\n      <td>2.0</td>\n      <td>0.0111</td>\n      <td>4.0</td>\n      <td>4.0</td>\n      <td>0.0</td>\n      <td>0.0</td>\n      <td>30.0</td>\n    </tr>\n    <tr>\n      <th>2</th>\n      <td>2016-01-01 00:01:03</td>\n      <td>2.0</td>\n      <td>0.0111</td>\n      <td>5.0</td>\n      <td>0.0278</td>\n      <td>1.0</td>\n      <td>0.0111</td>\n      <td>8.0</td>\n      <td>4.0</td>\n      <td>0.0</td>\n      <td>1.0</td>\n      <td>0.0</td>\n    </tr>\n    <tr>\n      <th>3</th>\n      <td>2016-01-01 00:01:33</td>\n      <td>0.0</td>\n      <td>0.0000</td>\n      <td>2.0</td>\n      <td>0.0100</td>\n      <td>0.0</td>\n      <td>0.0000</td>\n      <td>2.0</td>\n      <td>4.0</td>\n      <td>0.0</td>\n      <td>1.0</td>\n      <td>30.0</td>\n    </tr>\n    <tr>\n      <th>4</th>\n      <td>2016-01-01 00:02:03</td>\n      <td>0.0</td>\n      <td>0.0000</td>\n      <td>2.0</td>\n      <td>0.0100</td>\n      <td>2.0</td>\n      <td>0.0178</td>\n      <td>4.0</td>\n      <td>4.0</td>\n      <td>0.0</td>\n      <td>2.0</td>\n      <td>0.0</td>\n    </tr>\n  </tbody>\n</table>\n</div>",
      "text/plain": "             timestamp  flow1  occupancy1  flow2  occupancy2  flow3  \\\n0  2016-01-01 00:00:03    1.0      0.0056    3.0      0.0200    0.0   \n1  2016-01-01 00:00:35    1.0      0.0044    1.0      0.0056    2.0   \n2  2016-01-01 00:01:03    2.0      0.0111    5.0      0.0278    1.0   \n3  2016-01-01 00:01:33    0.0      0.0000    2.0      0.0100    0.0   \n4  2016-01-01 00:02:03    0.0      0.0000    2.0      0.0100    2.0   \n\n   occupancy3  totalflow  weekday  hour  minute  second  \n0      0.0000        4.0      4.0   0.0     0.0     0.0  \n1      0.0111        4.0      4.0   0.0     0.0    30.0  \n2      0.0111        8.0      4.0   0.0     1.0     0.0  \n3      0.0000        2.0      4.0   0.0     1.0    30.0  \n4      0.0178        4.0      4.0   0.0     2.0     0.0  "
     },
     "execution_count": 6,
     "metadata": {},
     "output_type": "execute_result"
    }
   ],
   "source": [
    "df.head()"
   ]
  },
  {
   "cell_type": "code",
   "execution_count": 5,
   "metadata": {},
   "outputs": [
    {
     "data": {
      "text/plain": "812617"
     },
     "execution_count": 5,
     "metadata": {},
     "output_type": "execute_result"
    }
   ],
   "source": [
    "df.shape[0].compute()"
   ]
  },
  {
   "cell_type": "code",
   "execution_count": 7,
   "metadata": {},
   "outputs": [],
   "source": [
    "db = 'foo'\n",
    "db_url = f\"mysql+pymysql://root:@localhost/{db}\"\n",
    "engine = create_engine(db_url)\n",
    "if not database_exists(engine.url):\n",
    "    create_database(engine.url)\n",
    "df.to_sql(name='richards', uri=db_url, if_exists='append', index=False)"
   ]
  },
  {
   "cell_type": "code",
   "execution_count": 2,
   "metadata": {},
   "outputs": [],
   "source": [
    "def insert_data(db: str, table_name: str, file_path: str):\n",
    "    db_url = f\"mysql+pymysql://root:@localhost/{db}\"\n",
    "    engine = create_engine(db_url)\n",
    "    if not database_exists(engine.url):\n",
    "        create_database(engine.url)\n",
    "    try:\n",
    "        df = dd.read_csv(file_path, assume_missing = True)\n",
    "    except:\n",
    "        print(f'Error raised while trying to read {file_path}')\n",
    "    df.to_sql(name=table_name, uri=db_url, if_exists='replace', index=False)\n",
    "    print('Data successfully inserted to mysql')"
   ]
  },
  {
   "cell_type": "code",
   "execution_count": 3,
   "metadata": {},
   "outputs": [
    {
     "name": "stdout",
     "output_type": "stream",
     "text": [
      "Data successfully inserted to mysql\n"
     ]
    }
   ],
   "source": [
    "insert_data('foo', 'I80_sample', '../data/I80_sample.txt')"
   ]
  }
 ],
 "metadata": {
  "kernelspec": {
   "display_name": "Python 3.8.5 64-bit ('base': conda)",
   "name": "python385jvsc74a57bd0c30745a67ab3077685183c6616f760120387d2e186c7e6a99675e86d34cdfa12"
  },
  "language_info": {
   "codemirror_mode": {
    "name": "ipython",
    "version": 3
   },
   "file_extension": ".py",
   "mimetype": "text/x-python",
   "name": "python",
   "nbconvert_exporter": "python",
   "pygments_lexer": "ipython3",
   "version": "3.8.5"
  },
  "orig_nbformat": 2
 },
 "nbformat": 4,
 "nbformat_minor": 2
}